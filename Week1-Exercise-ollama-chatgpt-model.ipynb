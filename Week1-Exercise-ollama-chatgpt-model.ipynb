{
 "cells": [
  {
   "cell_type": "code",
   "execution_count": 54,
   "id": "7adab232-6aac-443a-94b1-8de67ad78e9f",
   "metadata": {},
   "outputs": [],
   "source": [
    "import requests\n",
    "from bs4 import BeautifulSoup\n",
    "from IPython.display import Markdown, display\n",
    "\n",
    "'''\n",
    "  Using Ollama api at local\n",
    "'''\n",
    "OLLAMA_API = \"http://localhost:11434/api/chat\"\n",
    "HEADERS = {\"Content-Type\": \"application/json\"}\n",
    "MODEL = \"llama3.2\"\n",
    "GPT_MODEL = \"gpt-4o\"\n",
    "\n",
    "headers = {\n",
    " \"User-Agent\": \"Mozilla/5.0 (Windows NT 10.0; Win64; x64) AppleWebKit/537.36 (KHTML, like Gecko) Chrome/117.0.0.0 Safari/537.36\"\n",
    "}\n",
    "\n",
    "messages = [\n",
    "    {\"role\": \"user\", \"content\": \"Describe some of the business applications of Generative AI\"}\n",
    "]\n",
    "\n",
    "payload = {\n",
    "        \"model\": MODEL,\n",
    "        \"messages\": messages,\n",
    "        \"stream\": False\n",
    "}\n",
    "\n",
    "\n",
    "\n",
    "class Website:\n",
    "\n",
    "    def __init__(self, url):\n",
    "        \"\"\"\n",
    "        Create this Website object from the given url using the BeautifulSoup library\n",
    "        \"\"\"\n",
    "        self.url = url\n",
    "        response = requests.get(url, headers=headers)\n",
    "        soup = BeautifulSoup(response.content, 'html.parser')\n",
    "        self.title = soup.title.string if soup.title else \"No title found\"\n",
    "        for irrelevant in soup.body([\"script\", \"style\", \"img\", \"input\"]):\n",
    "            irrelevant.decompose()\n",
    "        self.text = soup.body.get_text(separator=\"\\n\", strip=True)"
   ]
  },
  {
   "cell_type": "code",
   "execution_count": 44,
   "id": "5a7554b4-99f6-44d3-b82b-374bc881c898",
   "metadata": {},
   "outputs": [],
   "source": [
    "import ollama\n",
    "import os\n",
    "from dotenv import load_dotenv\n",
    "from openai import OpenAI\n",
    "\n",
    "'''\n",
    "  define openai to use ollama at local\n",
    "'''\n",
    "ollama_via_openai = OpenAI(base_url='http://localhost:11434/v1', api_key='ollama')\n",
    "\n",
    "load_dotenv(override=True)\n",
    "api_key = os.getenv('OPENAI_API_KEY')\n",
    "\n",
    "gpt_openApi = OpenAI();\n",
    "\n",
    "def user_prompt_for(website):\n",
    "    user_prompt = f\"You are looking at a website titled {website.title}\"\n",
    "    user_prompt += \"\\nThe contents of this website is as follows; \\\n",
    "please provide a short summary of this website in markdown. \\\n",
    "If it includes news or announcements, then summarize these too.\\n\\n\"\n",
    "    user_prompt += website.text\n",
    "    return user_prompt\n",
    "\n",
    "def messages_for(website):\n",
    "    system_prompt = \"You are an assistant that analyzes the contents of a website \\\n",
    "and provides a short summary, ignoring text that might be navigation related. \\\n",
    "Respond in markdown.\"\n",
    "    return [\n",
    "        {\"role\": \"system\", \"content\": system_prompt},\n",
    "        {\"role\": \"user\", \"content\": user_prompt_for(website)}\n",
    "    ]\n",
    "\n",
    "def messages_for_user_prompt(system_prompt, user_prompt):\n",
    "    return [\n",
    "        {\"role\": \"system\", \"content\": system_prompt},\n",
    "        {\"role\": \"user\", \"content\": user_prompt}\n",
    "    ]\n",
    "\n",
    "def askQuestion(question, MODEL_TYPE, openApi):\n",
    "    response = openApi.chat.completions.create(\n",
    "        model = MODEL_TYPE,\n",
    "        messages = messages_for_user_prompt(\"You're ChatGPT assistant and need to answer question from user\", question)\n",
    "    )\n",
    "    display(Markdown(response.choices[0].message.content))\n",
    "    \n",
    "def summarize(url, MODEL_TYPE, openApi):\n",
    "    website = Website(url)\n",
    "    response = openApi.chat.completions.create(\n",
    "        model = MODEL_TYPE,\n",
    "        messages = messages_for(website)\n",
    "    )\n",
    "    return response.choices[0].message.content\n",
    "\n",
    "def display_summary(url, MODEL_TYPE, openApi):\n",
    "    summary = summarize(url, MODEL_TYPE, openApi)\n",
    "    display(Markdown(summary))"
   ]
  },
  {
   "cell_type": "code",
   "execution_count": 42,
   "id": "c2df752e-8000-42e0-98a3-39701a1476f8",
   "metadata": {},
   "outputs": [
    {
     "data": {
      "text/markdown": [
       "# DealDiscount Summary\n",
       "\n",
       "DealDiscount is a promotional website that focuses on providing users with various discounts and deals on a wide array of products and services. The platform aggregates offers from different retailers, allowing users to compare prices and find the best bargains.\n",
       "\n",
       "## Key Features:\n",
       "- **Variety of Deals:** Users can find discounts on electronics, clothing, home goods, and more.\n",
       "- **User-Friendly Interface:** Features clear categories and search functionality to easily navigate through deals.\n",
       "- **Regular Updates:** The site frequently updates its offerings to reflect the latest promotions and discounts available.\n",
       "\n",
       "## News & Announcements:\n",
       "- **Latest Promotions:** The website has recently announced an upcoming sale, highlighting significant discounts on popular brands for a limited period.\n",
       "- **New Partnerships:** DealDiscount has formed partnerships with several new retailers, expanding the range of deals available to users.\n",
       "\n",
       "Overall, DealDiscount is designed to help consumers save money by providing easy access to discounted products and timely promotions."
      ],
      "text/plain": [
       "<IPython.core.display.Markdown object>"
      ]
     },
     "metadata": {},
     "output_type": "display_data"
    }
   ],
   "source": [
    "display_summary(\"https://discountdealus.com/#/\", GPT_MODEL, gpt_openApi)"
   ]
  },
  {
   "cell_type": "code",
   "execution_count": 55,
   "id": "959bc793-04db-4b65-97a3-889f0aace3b3",
   "metadata": {},
   "outputs": [
    {
     "data": {
      "text/markdown": [
       "I'm unable to create or display images directly. However, I can guide you on how to create an image like this using graphic design software or tools like Photoshop or GIMP.\n",
       "\n",
       "Here's a simple idea for creating the image:\n",
       "\n",
       "1. **Choose a Background Image**: \n",
       "   - Find a high-quality photograph of a Hawaiian landscape. This could be a beach scene, lush greenery, or a volcanic backdrop.\n",
       "\n",
       "2. **Find or Create a Dragon Image**:\n",
       "   - You can either design your own dragon using digital drawing tools or find a royalty-free dragon image or vector graphic online.\n",
       "\n",
       "3. **Combine the Images**:\n",
       "   - Use software like Photoshop, GIMP, or an online photo editor to overlay the dragon image onto the Hawaiian background. Make sure to adjust the size and perspective so the dragon appears to be flying or hovering in the sky.\n",
       "\n",
       "4. **Blend and Adjust**:\n",
       "   - Use blending tools to ensure the dragon looks like a natural part of the scene. Adjust lighting and shadows to match the background, so the entire image looks cohesive.\n",
       "\n",
       "5. **Finalize and Save**: \n",
       "   - Once you’re satisfied with how your image looks, export it in your desired format (like JPEG or PNG).\n",
       "\n",
       "If you prefer an automated tool for such creations, programs like Canva might offer user-friendly interfaces and templates that you can modify for your project."
      ],
      "text/plain": [
       "<IPython.core.display.Markdown object>"
      ]
     },
     "metadata": {},
     "output_type": "display_data"
    }
   ],
   "source": [
    "askQuestion(\"Generate image with background in Hawaii and the dragon on the sky\", GPT_MODEL, gpt_openApi)"
   ]
  },
  {
   "cell_type": "code",
   "execution_count": 51,
   "id": "2d6a28aa-5f2f-42e8-b999-75faaf133592",
   "metadata": {},
   "outputs": [
    {
     "data": {
      "text/markdown": [
       "The provided function `increase(int number)` is intended to increase the given number. However, there is an issue with the implementation: it has a `return` statement that tries to return a value from a `void` method, which is not allowed. The method should return an integer, not be declared as `void`.\n",
       "\n",
       "Here’s a corrected version of the method and a corresponding JUnit test:\n",
       "\n",
       "### Corrected Method\n",
       "```java\n",
       "public int increase(int number) {\n",
       "    return number + 1;\n",
       "}\n",
       "```\n",
       "\n",
       "### JUnit Test for the Corrected Method\n",
       "Now, you can create a JUnit test case for the `increase` method using JUnit 5.\n",
       "\n",
       "```java\n",
       "import static org.junit.jupiter.api.Assertions.assertEquals;\n",
       "import org.junit.jupiter.api.Test;\n",
       "\n",
       "public class IncreaseTest {\n",
       "\n",
       "    @Test\n",
       "    public void testIncrease() {\n",
       "        IncreaseTestClass testClass = new IncreaseTestClass(); // Replace with your class name\n",
       "        assertEquals(1, testClass.increase(0));\n",
       "        assertEquals(2, testClass.increase(1));\n",
       "        assertEquals(5, testClass.increase(4));\n",
       "        assertEquals(-1, testClass.increase(-2));\n",
       "    }\n",
       "}\n",
       "```\n",
       "\n",
       "### Explanation:\n",
       "1. **Correct Method**: The `increase` method now returns the incremented value of the received number.\n",
       "2. **JUnit Test Class**: A test class is created (`IncreaseTest`), and a test method (`testIncrease`) is defined to test various scenarios:\n",
       "   - Incrementing `0` should return `1`\n",
       "   - Incrementing `1` should return `2`\n",
       "   - Incrementing `4` should return `5`\n",
       "   - Incrementing `-2` should return `-1`\n",
       "3. **Assertions**: The `assertEquals` method is used to compare the expected outputs with the actual outputs of the `increase` method.\n",
       "\n",
       "Make sure to replace `IncreaseTestClass` with the actual name of your class that contains the `increase` method. Additionally, ensure you have JUnit 5 in your classpath to run the test."
      ],
      "text/plain": [
       "<IPython.core.display.Markdown object>"
      ]
     },
     "metadata": {},
     "output_type": "display_data"
    }
   ],
   "source": [
    "askQuestion(\"Generate JUnit Unittest for function below: public void increase(int number) {return number++;}\", GPT_MODEL, gpt_openApi)"
   ]
  },
  {
   "cell_type": "code",
   "execution_count": 79,
   "id": "76778607-a32f-4466-8850-6e11b7c99894",
   "metadata": {},
   "outputs": [
    {
     "data": {
      "text/markdown": [
       "I'm a large language model, I don't have direct access to real-time job postings or specific websites. However, I can guide you on how to find the first 50 job postings that match your criteria and provide you with some popular websites where you can search for jobs.\n",
       "\n",
       "To find job postings that meet your criteria (United States, Java Developer, 10+ years of experience, last 3 days), you can try the following options:\n",
       "\n",
       "1. **Glassdoor**: Glassdoor is a popular job search website that provides a vast database of job postings from various companies.\n",
       "\t* Go to [www.glassdoor.com](http://www.glassdoor.com) and click on \"Jobs\" in the top navigation bar.\n",
       "\t* Select \"Job Search\" and enter your criteria (location: United States, job title: Java Developer, experience: 10+, time range: last 3 days).\n",
       "2. **Indeed**: Indeed is another well-known job search website that provides job postings from various sources.\n",
       "\t* Go to [www.indeed.com](http://www.indeed.com) and click on \"Jobs\" in the top navigation bar.\n",
       "\t* Select \"Job Search\" and enter your criteria (location: United States, job title: Java Developer, experience: 10+, time range: last 3 days).\n",
       "3. **LinkedIn**: LinkedIn is a professional networking site that also provides job postings.\n",
       "\t* Go to [www.linkedin.com/jobs](http://www.linkedin.com/jobs) and select \"Job Search\".\n",
       "\t* Enter your criteria (location: United States, job title: Java Developer, experience: 10+, time range: last 3 days).\n",
       "4. **We Work Remotely**: If you're interested in remote jobs, WWR is a great website to search for.\n",
       "\t* Go to [weworkremotely.com](http://weworkremotely.com) and click on \"Jobs\" in the top navigation bar.\n",
       "\t* Search for job titles that match your criteria.\n",
       "\n",
       "To retrieve links to every job posting within 50 job results, you can try the following:\n",
       "\n",
       "1. Copy the URL of each job posting on a website like Glassdoor or Indeed and save it individually.\n",
       "2. Use a browser extension like \"Mozbar\" (for Chrome) or \"Answered\" (for Firefox) that allows you to copy links between tabs seamlessly.\n",
       "3. Write a script using Python (or your preferred programming language) to scrape and store links from job portals."
      ],
      "text/plain": [
       "<IPython.core.display.Markdown object>"
      ]
     },
     "metadata": {},
     "output_type": "display_data"
    }
   ],
   "source": [
    "askQuestion(\"find first 50 jobs posting and provide the link to every job posting following: Location: United States, Job title: Java Developer, Experience: 10+ years, Time range: Last 3 days\", MODEL, ollama_via_openai)"
   ]
  },
  {
   "cell_type": "code",
   "execution_count": null,
   "id": "b83a0caa-3c7f-48ab-bbd4-3826509eb377",
   "metadata": {},
   "outputs": [],
   "source": []
  }
 ],
 "metadata": {
  "kernelspec": {
   "display_name": "Python 3 (ipykernel)",
   "language": "python",
   "name": "python3"
  },
  "language_info": {
   "codemirror_mode": {
    "name": "ipython",
    "version": 3
   },
   "file_extension": ".py",
   "mimetype": "text/x-python",
   "name": "python",
   "nbconvert_exporter": "python",
   "pygments_lexer": "ipython3",
   "version": "3.11.12"
  }
 },
 "nbformat": 4,
 "nbformat_minor": 5
}
